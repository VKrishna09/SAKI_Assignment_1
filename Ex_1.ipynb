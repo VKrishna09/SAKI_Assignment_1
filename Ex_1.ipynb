{
 "cells": [
  {
   "cell_type": "markdown",
   "metadata": {},
   "source": [
    "# Transaction Classification\n",
    "\n",
    "This notebook uses Naive Bayes as a classifier, that is applied on to the given data set. The goal of this work is to classify the given data into different revenue categories. They are: \n",
    "\n",
    "Income, Private, Living, Standard of Living, Finance, Traffic, Leisure. \n",
    "\n",
    "(Note: Traffic class is not applicable in the given dataset)\n",
    "\n",
    "__Technologies Used__: jupyter notebook, numpy, pandas, matplotlib, scikit-learn libraries\n",
    "\n",
    "__Classifiers Used__: Gaussian, Multinomial, Bernoulli Naive Bayes\n",
    "\n",
    "__Author__: Vamsi Krishna Annavarapu"
   ]
  },
  {
   "cell_type": "markdown",
   "metadata": {},
   "source": [
    "## Work Flow\n",
    "\n",
    "The following work flow was implemented:\n",
    "\n",
    "* Reading the data: Calling the data file\n",
    "* Cleaning the data: Removing the unwanted data\n",
    "* Modifying the data: Count Vectorizer, Label Encoder, Replacing NaN values etc.\n",
    "* Splitting the data: Test, Train split\n",
    "* Processing the data: Implementing the classifier, calculation of metrics\n",
    "* Displaying the results: Plotting the results"
   ]
  },
  {
   "cell_type": "markdown",
   "metadata": {},
   "source": [
    "### Reading the data\n",
    "\n",
    "Reading the data is the first step of all Data Science (DS) problems\n",
    "\n",
    "(Note: All the libraries used in the following work are arranged at one place)"
   ]
  },
  {
   "cell_type": "code",
   "execution_count": 14,
   "metadata": {},
   "outputs": [
    {
     "data": {
      "text/html": [
       "<div>\n",
       "<style scoped>\n",
       "    .dataframe tbody tr th:only-of-type {\n",
       "        vertical-align: middle;\n",
       "    }\n",
       "\n",
       "    .dataframe tbody tr th {\n",
       "        vertical-align: top;\n",
       "    }\n",
       "\n",
       "    .dataframe thead th {\n",
       "        text-align: right;\n",
       "    }\n",
       "</style>\n",
       "<table border=\"1\" class=\"dataframe\">\n",
       "  <thead>\n",
       "    <tr style=\"text-align: right;\">\n",
       "      <th></th>\n",
       "      <th>Unnamed: 0</th>\n",
       "      <th>Auftragskonto</th>\n",
       "      <th>Buchungstag</th>\n",
       "      <th>Valutadatum</th>\n",
       "      <th>Buchungstext</th>\n",
       "      <th>Verwendungszweck</th>\n",
       "      <th>Beguenstigter/Zahlungspflichtiger</th>\n",
       "      <th>Kontonummer</th>\n",
       "      <th>BLZ</th>\n",
       "      <th>Betrag</th>\n",
       "      <th>Waehrung</th>\n",
       "      <th>label</th>\n",
       "    </tr>\n",
       "  </thead>\n",
       "  <tbody>\n",
       "    <tr>\n",
       "      <th>0</th>\n",
       "      <td>0</td>\n",
       "      <td>89990201.0</td>\n",
       "      <td>28.07.2016</td>\n",
       "      <td>28.07.2016</td>\n",
       "      <td>Lohn / Gehalt</td>\n",
       "      <td>Gehalt Adorsys GmbH &amp; Co. KG End-To-End-Ref.: ...</td>\n",
       "      <td>Adorsys GmbH &amp; Co. KG</td>\n",
       "      <td>7807800780</td>\n",
       "      <td>25190001</td>\n",
       "      <td>2000.00</td>\n",
       "      <td>EUR</td>\n",
       "      <td>income</td>\n",
       "    </tr>\n",
       "    <tr>\n",
       "      <th>1</th>\n",
       "      <td>1</td>\n",
       "      <td>89990201.0</td>\n",
       "      <td>27.07.2016</td>\n",
       "      <td>27.07.2016</td>\n",
       "      <td>Miete</td>\n",
       "      <td>Byladem1Sbt De12773501123456789889 Miete Beuth...</td>\n",
       "      <td>Georg Tasche</td>\n",
       "      <td>DE31251900019123456780</td>\n",
       "      <td>VOHADE2HXXX</td>\n",
       "      <td>-670.00</td>\n",
       "      <td>EUR</td>\n",
       "      <td>living</td>\n",
       "    </tr>\n",
       "    <tr>\n",
       "      <th>2</th>\n",
       "      <td>2</td>\n",
       "      <td>89990201.0</td>\n",
       "      <td>21.07.2016</td>\n",
       "      <td>21.07.2016</td>\n",
       "      <td>Bargeld</td>\n",
       "      <td>21.07/16.34Uhr Nuernberg All Eur 70,00 Geb.Eur...</td>\n",
       "      <td>Bargeld</td>\n",
       "      <td>9999900780</td>\n",
       "      <td>25190001</td>\n",
       "      <td>-70.00</td>\n",
       "      <td>EUR</td>\n",
       "      <td>private</td>\n",
       "    </tr>\n",
       "    <tr>\n",
       "      <th>3</th>\n",
       "      <td>3</td>\n",
       "      <td>89990201.0</td>\n",
       "      <td>20.07.2016</td>\n",
       "      <td>20.07.2016</td>\n",
       "      <td>Lebensmittel / Getraenke</td>\n",
       "      <td>2831 Edeka Neubauer Nuernb.//Nuernb 2016-07-20...</td>\n",
       "      <td>Kartenzahlung</td>\n",
       "      <td>9736000780</td>\n",
       "      <td>25190001</td>\n",
       "      <td>-73.21</td>\n",
       "      <td>EUR</td>\n",
       "      <td>standardOfLiving</td>\n",
       "    </tr>\n",
       "    <tr>\n",
       "      <th>4</th>\n",
       "      <td>4</td>\n",
       "      <td>89990201.0</td>\n",
       "      <td>18.07.2016</td>\n",
       "      <td>18.07.2016</td>\n",
       "      <td>Spontanausgabe</td>\n",
       "      <td>Amazon</td>\n",
       "      <td>neue Playstation</td>\n",
       "      <td>9988776655</td>\n",
       "      <td>25125100</td>\n",
       "      <td>-363</td>\n",
       "      <td>EUR</td>\n",
       "      <td>leisure</td>\n",
       "    </tr>\n",
       "  </tbody>\n",
       "</table>\n",
       "</div>"
      ],
      "text/plain": [
       "   Unnamed: 0  Auftragskonto Buchungstag Valutadatum  \\\n",
       "0           0     89990201.0  28.07.2016  28.07.2016   \n",
       "1           1     89990201.0  27.07.2016  27.07.2016   \n",
       "2           2     89990201.0  21.07.2016  21.07.2016   \n",
       "3           3     89990201.0  20.07.2016  20.07.2016   \n",
       "4           4     89990201.0  18.07.2016  18.07.2016   \n",
       "\n",
       "               Buchungstext  \\\n",
       "0             Lohn / Gehalt   \n",
       "1                     Miete   \n",
       "2                   Bargeld   \n",
       "3  Lebensmittel / Getraenke   \n",
       "4            Spontanausgabe   \n",
       "\n",
       "                                    Verwendungszweck  \\\n",
       "0  Gehalt Adorsys GmbH & Co. KG End-To-End-Ref.: ...   \n",
       "1  Byladem1Sbt De12773501123456789889 Miete Beuth...   \n",
       "2  21.07/16.34Uhr Nuernberg All Eur 70,00 Geb.Eur...   \n",
       "3  2831 Edeka Neubauer Nuernb.//Nuernb 2016-07-20...   \n",
       "4                                             Amazon   \n",
       "\n",
       "  Beguenstigter/Zahlungspflichtiger             Kontonummer          BLZ  \\\n",
       "0             Adorsys GmbH & Co. KG              7807800780     25190001   \n",
       "1                      Georg Tasche  DE31251900019123456780  VOHADE2HXXX   \n",
       "2                           Bargeld              9999900780     25190001   \n",
       "3                     Kartenzahlung              9736000780     25190001   \n",
       "4                  neue Playstation              9988776655     25125100   \n",
       "\n",
       "    Betrag Waehrung             label  \n",
       "0  2000.00      EUR            income  \n",
       "1  -670.00      EUR            living  \n",
       "2   -70.00      EUR           private  \n",
       "3   -73.21      EUR  standardOfLiving  \n",
       "4     -363      EUR           leisure  "
      ]
     },
     "execution_count": 14,
     "metadata": {},
     "output_type": "execute_result"
    }
   ],
   "source": [
    "import numpy as np\n",
    "import pandas as pd\n",
    "import matplotlib.pyplot as plt\n",
    "from sklearn.preprocessing import LabelEncoder, OneHotEncoder, LabelBinarizer\n",
    "from sklearn.feature_extraction.text import CountVectorizer\n",
    "from pandas import DataFrame, concat\n",
    "from sklearn.model_selection import train_test_split\n",
    "from sklearn.naive_bayes import GaussianNB, MultinomialNB, BernoulliNB\n",
    "from sklearn.metrics import plot_confusion_matrix, accuracy_score, precision_score, recall_score, f1_score, hamming_loss, plot_roc_curve, roc_auc_score, roc_curve, auc\n",
    "from sklearn.model_selection import cross_val_score\n",
    "from sklearn.datasets import make_multilabel_classification\n",
    "from sklearn.multioutput import MultiOutputClassifier\n",
    "\n",
    "## Reading the data\n",
    "df= pd.read_csv('SAKI Exercise 1 - Transaction Classification - Data Set.csv',sep=';')\n",
    "df.head()"
   ]
  },
  {
   "cell_type": "markdown",
   "metadata": {},
   "source": [
    "### Cleaning the data\n",
    "\n",
    "Cleaning the unwanted data is one of the important step in dealing DS problems. This step reduces the complexity of the running of algorithm and optimizes the data selection feature. "
   ]
  },
  {
   "cell_type": "code",
   "execution_count": 15,
   "metadata": {},
   "outputs": [
    {
     "data": {
      "text/html": [
       "<div>\n",
       "<style scoped>\n",
       "    .dataframe tbody tr th:only-of-type {\n",
       "        vertical-align: middle;\n",
       "    }\n",
       "\n",
       "    .dataframe tbody tr th {\n",
       "        vertical-align: top;\n",
       "    }\n",
       "\n",
       "    .dataframe thead th {\n",
       "        text-align: right;\n",
       "    }\n",
       "</style>\n",
       "<table border=\"1\" class=\"dataframe\">\n",
       "  <thead>\n",
       "    <tr style=\"text-align: right;\">\n",
       "      <th></th>\n",
       "      <th>Auftragskonto</th>\n",
       "      <th>Buchungstag</th>\n",
       "      <th>Valutadatum</th>\n",
       "      <th>Buchungstext</th>\n",
       "      <th>Verwendungszweck</th>\n",
       "      <th>Beguenstigter/Zahlungspflichtiger</th>\n",
       "      <th>Kontonummer</th>\n",
       "      <th>BLZ</th>\n",
       "      <th>Betrag</th>\n",
       "      <th>label</th>\n",
       "    </tr>\n",
       "    <tr>\n",
       "      <th>index</th>\n",
       "      <th></th>\n",
       "      <th></th>\n",
       "      <th></th>\n",
       "      <th></th>\n",
       "      <th></th>\n",
       "      <th></th>\n",
       "      <th></th>\n",
       "      <th></th>\n",
       "      <th></th>\n",
       "      <th></th>\n",
       "    </tr>\n",
       "  </thead>\n",
       "  <tbody>\n",
       "    <tr>\n",
       "      <th>0</th>\n",
       "      <td>89990201.0</td>\n",
       "      <td>28.07.2016</td>\n",
       "      <td>28.07.2016</td>\n",
       "      <td>Lohn / Gehalt</td>\n",
       "      <td>Gehalt Adorsys GmbH &amp; Co. KG End-To-End-Ref.: ...</td>\n",
       "      <td>Adorsys GmbH &amp; Co. KG</td>\n",
       "      <td>7807800780</td>\n",
       "      <td>25190001</td>\n",
       "      <td>2000.00</td>\n",
       "      <td>income</td>\n",
       "    </tr>\n",
       "    <tr>\n",
       "      <th>1</th>\n",
       "      <td>89990201.0</td>\n",
       "      <td>27.07.2016</td>\n",
       "      <td>27.07.2016</td>\n",
       "      <td>Miete</td>\n",
       "      <td>Byladem1Sbt De12773501123456789889 Miete Beuth...</td>\n",
       "      <td>Georg Tasche</td>\n",
       "      <td>DE31251900019123456780</td>\n",
       "      <td>VOHADE2HXXX</td>\n",
       "      <td>-670.00</td>\n",
       "      <td>living</td>\n",
       "    </tr>\n",
       "    <tr>\n",
       "      <th>2</th>\n",
       "      <td>89990201.0</td>\n",
       "      <td>21.07.2016</td>\n",
       "      <td>21.07.2016</td>\n",
       "      <td>Bargeld</td>\n",
       "      <td>21.07/16.34Uhr Nuernberg All Eur 70,00 Geb.Eur...</td>\n",
       "      <td>Bargeld</td>\n",
       "      <td>9999900780</td>\n",
       "      <td>25190001</td>\n",
       "      <td>-70.00</td>\n",
       "      <td>private</td>\n",
       "    </tr>\n",
       "    <tr>\n",
       "      <th>3</th>\n",
       "      <td>89990201.0</td>\n",
       "      <td>20.07.2016</td>\n",
       "      <td>20.07.2016</td>\n",
       "      <td>Lebensmittel / Getraenke</td>\n",
       "      <td>2831 Edeka Neubauer Nuernb.//Nuernb 2016-07-20...</td>\n",
       "      <td>Kartenzahlung</td>\n",
       "      <td>9736000780</td>\n",
       "      <td>25190001</td>\n",
       "      <td>-73.21</td>\n",
       "      <td>standardOfLiving</td>\n",
       "    </tr>\n",
       "    <tr>\n",
       "      <th>4</th>\n",
       "      <td>89990201.0</td>\n",
       "      <td>18.07.2016</td>\n",
       "      <td>18.07.2016</td>\n",
       "      <td>Spontanausgabe</td>\n",
       "      <td>Amazon</td>\n",
       "      <td>neue Playstation</td>\n",
       "      <td>9988776655</td>\n",
       "      <td>25125100</td>\n",
       "      <td>-363</td>\n",
       "      <td>leisure</td>\n",
       "    </tr>\n",
       "  </tbody>\n",
       "</table>\n",
       "</div>"
      ],
      "text/plain": [
       "       Auftragskonto Buchungstag Valutadatum              Buchungstext  \\\n",
       "index                                                                    \n",
       "0         89990201.0  28.07.2016  28.07.2016             Lohn / Gehalt   \n",
       "1         89990201.0  27.07.2016  27.07.2016                     Miete   \n",
       "2         89990201.0  21.07.2016  21.07.2016                   Bargeld   \n",
       "3         89990201.0  20.07.2016  20.07.2016  Lebensmittel / Getraenke   \n",
       "4         89990201.0  18.07.2016  18.07.2016            Spontanausgabe   \n",
       "\n",
       "                                        Verwendungszweck  \\\n",
       "index                                                      \n",
       "0      Gehalt Adorsys GmbH & Co. KG End-To-End-Ref.: ...   \n",
       "1      Byladem1Sbt De12773501123456789889 Miete Beuth...   \n",
       "2      21.07/16.34Uhr Nuernberg All Eur 70,00 Geb.Eur...   \n",
       "3      2831 Edeka Neubauer Nuernb.//Nuernb 2016-07-20...   \n",
       "4                                                 Amazon   \n",
       "\n",
       "      Beguenstigter/Zahlungspflichtiger             Kontonummer          BLZ  \\\n",
       "index                                                                          \n",
       "0                 Adorsys GmbH & Co. KG              7807800780     25190001   \n",
       "1                          Georg Tasche  DE31251900019123456780  VOHADE2HXXX   \n",
       "2                               Bargeld              9999900780     25190001   \n",
       "3                         Kartenzahlung              9736000780     25190001   \n",
       "4                      neue Playstation              9988776655     25125100   \n",
       "\n",
       "        Betrag             label  \n",
       "index                             \n",
       "0      2000.00            income  \n",
       "1      -670.00            living  \n",
       "2       -70.00           private  \n",
       "3       -73.21  standardOfLiving  \n",
       "4         -363           leisure  "
      ]
     },
     "execution_count": 15,
     "metadata": {},
     "output_type": "execute_result"
    }
   ],
   "source": [
    "#Data cleaning \n",
    "\n",
    "##Changing the index of data\n",
    "df['Unnamed: 0'].is_unique #checking which category is unique to differentiate the data\n",
    "df = df.set_index('Unnamed: 0')\n",
    "df.index.rename('index', inplace=True) #Renaming the Unnamed: 0 heading as it is not named!\n",
    "df = df.rename(columns = {'fit': 'fit_feature'})\n",
    "drop_data = ['Waehrung'] #dropping Waehrung doesnt affect the output of the algorithm as it is same for the entire data\n",
    "df.drop(columns=drop_data, inplace=True)\n",
    "\n",
    "df.head()"
   ]
  },
  {
   "cell_type": "markdown",
   "metadata": {},
   "source": [
    "### Cleaning the data cont...\n",
    "\n",
    "Before the modification of the existing data, it is appropriate to check if there are any NaN values in the given data set"
   ]
  },
  {
   "cell_type": "code",
   "execution_count": 16,
   "metadata": {},
   "outputs": [
    {
     "name": "stdout",
     "output_type": "stream",
     "text": [
      "Number of NaN values in the given dataset :\n",
      "Auftragskonto                        41\n",
      "Buchungstag                           0\n",
      "Valutadatum                           0\n",
      "Buchungstext                          0\n",
      "Verwendungszweck                      0\n",
      "Beguenstigter/Zahlungspflichtiger     0\n",
      "Kontonummer                           1\n",
      "BLZ                                   1\n",
      "Betrag                                0\n",
      "label                                 0\n",
      "dtype: int64\n"
     ]
    },
    {
     "data": {
      "text/plain": [
       "<AxesSubplot:>"
      ]
     },
     "execution_count": 16,
     "metadata": {},
     "output_type": "execute_result"
    },
    {
     "data": {
      "image/png": "[encoded data removed]",
      "text/plain": [
       "<Figure size 432x288 with 1 Axes>"
      ]
     },
     "metadata": {
      "needs_background": "light"
     },
     "output_type": "display_data"
    }
   ],
   "source": [
    "count_nan = df.isnull().sum()\n",
    "print ('Number of NaN values in the given dataset :\\n' + str(count_nan))\n",
    "\n",
    "df['label'].hist(grid=True, bins=range(7), xrot=60, width=0.2)"
   ]
  },
  {
   "cell_type": "markdown",
   "metadata": {},
   "source": [
    "### Modifying the data\n",
    "\n",
    "This step is done to modify the existing data. Operations such as replacing NaN values with mean, median, zero's; changing the format of date to numbers; encoding the words; count vectorization of group of words;  etc. were performed on the given data.\n",
    "\n",
    "Main operations performed:\n",
    "\n",
    "* **Replacing NaN values with mean, median, zero's**: In this step the NaN values are to be cleared and replaced with a value corresponding to the similar datatype in the coloumn to avoid errors in the processing of data. It depends on the number of NaN values, whether to replace it with median (if there are more NaN values), zero's(if there are less Nan values).\n",
    "\n",
    "* **Changing the format of date**: In this step the date of any format (for ex. DD.MM.YYYY, DD/MM/YYYY) should be converted to a single data type. As '.' or '/' is a part of string it should be converted to either 'float' or 'int' values. \n",
    "\n",
    "* **Encoding**: In this step, converting each value in a column to a number takes place. In this problem LabelEncoder is used, depending upon the data values and type of data, label encoding induces a new problem since it uses number sequencing. This is then transformed to OneHotEncoder to limit the values in between 0 and 1. This transformation is done as converting the existing numbers to 0s and 1s is easier than converting the strings as the dataset is huge.\n",
    "\n",
    "* **Count Vectorization**: CountVectorizer is used in this work, it is similar to OneHotEncoder. CountVectorization involves counting the number of occurrences each word that appear in a sentence. This technique is accurate, counts of the word content of the text data and labels it as 0s or 1s depending on the word count. This is helpful when the addresses, text paragraphs, sentences exist.  \n",
    "\n",
    "The whole idea of modifying the data in this work is to standardize the data in the form of **numbers** (int and float) which will be easier for the classifier to predict the output"
   ]
  },
  {
   "cell_type": "code",
   "execution_count": 17,
   "metadata": {},
   "outputs": [
    {
     "name": "stdout",
     "output_type": "stream",
     "text": [
      "Count of NaN:\n",
      "Auftragskonto                        0\n",
      "Buchungstag                          0\n",
      "Valutadatum                          0\n",
      "Buchungstext                         0\n",
      "Verwendungszweck                     0\n",
      "Beguenstigter/Zahlungspflichtiger    0\n",
      "Kontonummer                          0\n",
      "BLZ                                  0\n",
      "Betrag                               0\n",
      "label                                0\n",
      "dtype: int64\n"
     ]
    }
   ],
   "source": [
    "df['Auftragskonto'] = df['Auftragskonto'].fillna(df['Auftragskonto'].median())\n",
    "\n",
    "df['Buchungstag'] = pd.to_datetime(df['Buchungstag'], errors='coerce')\n",
    "df['Buchungstag'] = df['Buchungstag'].apply(lambda x: x.value)\n",
    "\n",
    "df['Valutadatum'] = pd.to_datetime(df['Valutadatum'], errors='coerce')\n",
    "df['Valutadatum'] = df['Valutadatum'].apply(lambda x: x.value)\n",
    "\n",
    "label_encoder = LabelEncoder()\n",
    "buc_int_encoded = label_encoder.fit_transform(df['Buchungstext'])\n",
    "buc_onehot_encoder = OneHotEncoder(sparse=False)\n",
    "buc_int_encoded = buc_int_encoded.reshape(len(buc_int_encoded), 1)\n",
    "buc_onehot_encoded = buc_onehot_encoder.fit_transform(buc_int_encoded)\n",
    "Buchungstext = DataFrame(data=buc_onehot_encoded)\n",
    "\n",
    "vectorizer = CountVectorizer()\n",
    "ver_trans = vectorizer.fit_transform(df['Verwendungszweck'])\n",
    "ver_names = vectorizer.get_feature_names()\n",
    "ver_trans_array = vectorizer.transform(df['Verwendungszweck']).toarray()\n",
    "Verwendungszweck = DataFrame(data=ver_trans_array, columns=ver_names)\n",
    "\n",
    "beg_int_encoded = label_encoder.fit_transform(df['Beguenstigter/Zahlungspflichtiger'])\n",
    "beg_onehot_encoder = OneHotEncoder(sparse=False)\n",
    "beg_int_encoded = beg_int_encoded.reshape(len(beg_int_encoded), 1)\n",
    "beg_onehot_encoded = beg_onehot_encoder.fit_transform(beg_int_encoded)\n",
    "Beguenstigter = DataFrame(data=beg_onehot_encoded)\n",
    "\n",
    "df['Kontonummer'] = df['Kontonummer'].fillna(0)\n",
    "\n",
    "df['BLZ'] = df['BLZ'].fillna(0)\n",
    "\n",
    "df['Betrag'] = df['Betrag'].fillna(0)\n",
    "\n",
    "#checking the NaN once again to confirm if the above processing is performed correctly\n",
    "count_nan = df.isnull().sum()\n",
    "print ('Count of NaN:\\n' + str(count_nan))"
   ]
  },
  {
   "cell_type": "markdown",
   "metadata": {},
   "source": [
    "### Modifying the data cont...\n",
    "\n",
    "The above operations performed modify the individual part of the data frame. Now it needs to be assembled into a new data frame and the further steps continue. \n",
    "\n",
    "Note: The data can directly be fed into test train split and later the split can be encoded. Shape errors are common and needs a lot of effort to work on them. Its better to first work on modifying the data and then split it into test train split."
   ]
  },
  {
   "cell_type": "code",
   "execution_count": 18,
   "metadata": {},
   "outputs": [
    {
     "data": {
      "text/plain": [
       "(209, 773)"
      ]
     },
     "execution_count": 18,
     "metadata": {},
     "output_type": "execute_result"
    }
   ],
   "source": [
    "#Redefine Dataframe\n",
    "\n",
    "new_df = concat([pd.get_dummies(df['Auftragskonto']),pd.get_dummies(df['Buchungstag']),pd.get_dummies(df['Valutadatum'])\n",
    "                 ,Buchungstext, Verwendungszweck, Beguenstigter, pd.get_dummies(df['Kontonummer']), pd.get_dummies(df['BLZ'])\n",
    "                 ,pd.get_dummies(df['Betrag'])], axis=1)\n",
    "new_df.shape"
   ]
  },
  {
   "cell_type": "markdown",
   "metadata": {},
   "source": [
    "### Splitting the data\n",
    "\n",
    "The implementation of test-train split is to divide the data into training and target (test) part. \n",
    "\n",
    "Here, \n",
    "* X represents the new_df where the data is available for training; Should be 2-D array\n",
    "* y represents the label part of df on which the above data is to be trained; Should be 1-D array\n",
    "* test_size represent the percentage of data that needs to be given for testing from the existing dataset\n",
    "* random_state ensures that the splits generated are reproducible and are deterministic in nature."
   ]
  },
  {
   "cell_type": "code",
   "execution_count": 19,
   "metadata": {},
   "outputs": [
    {
     "name": "stdout",
     "output_type": "stream",
     "text": [
      "(156, 773)\n",
      "(53, 773)\n",
      "(156,)\n",
      "(53,)\n"
     ]
    }
   ],
   "source": [
    "X_train, X_test, y_train, y_test = train_test_split(new_df, df['label'], test_size = 0.25, random_state = 700)\n",
    "\n",
    "print(X_train.shape)\n",
    "print(X_test.shape)\n",
    "print(y_train.shape)\n",
    "print(y_test.shape)"
   ]
  },
  {
   "cell_type": "markdown",
   "metadata": {},
   "source": [
    "### Processing the data\n",
    "\n",
    "**Classifier**: A classifier in machine learning is an algorithm that automatically orders or categorizes data into one or more of a set of “classes”. \n",
    "\n",
    "**Gaussian Naive Bayes** is useful when working with continuous values of which the probabilities can be modeled using a Gaussian distribution. The reason behind using Gaussian Naive Bayes is that the data pre-processed is converted to 0's and 1's. The algorithm will look at the height of all of the transactions and determine where the cut-off should be to maximize the model performance (usually accuracy) to classify between the given transactions.\n",
    "\n",
    "**Metrics**: Metrics quantify and qualify the working of the classifier.\n",
    "\n",
    "* **Accuracy score**: Computes the accuracy of the model,it is the fraction of predictions the model got right.\n",
    "* **Precision score**: Quantifies the number of positive class predictions that actually belong to the positive class.\n",
    "* **Recall score**: Quantifies the number of positive class predictions made out of all positive examples in a dataset.\n",
    "* **F1 score**: Provides a single score that balances both the concerns of precision and recall in one number.\n",
    "* **Hamming loss**: The fraction of the wrong labels to the total number of labels.\n",
    "* **K-Fold Cross Validation Score**: It is a statistical method used to estimate the skill of machine learning models."
   ]
  },
  {
   "cell_type": "code",
   "execution_count": 20,
   "metadata": {},
   "outputs": [
    {
     "name": "stdout",
     "output_type": "stream",
     "text": [
      "Metrics of GaussianNB classifier:\n",
      "Accuracy score: 98.11320754716981\n",
      "Precision score: 98.23899371069182\n",
      "Recall score: 98.11320754716981\n",
      "F1 score: 98.09024455585748\n",
      "Hamming Loss: 1.8867924528301887\n",
      "Mean cross Validation Score: 88.73626373626374\n"
     ]
    }
   ],
   "source": [
    "gaus_nb = GaussianNB()\n",
    "y_pred = gaus_nb.fit(X_train, y_train).predict(X_test)\n",
    "\n",
    "print('Metrics of GaussianNB classifier:')\n",
    "print('Accuracy score:' , accuracy_score(y_test, y_pred)*100)\n",
    "print('Precision score:', precision_score(y_test, y_pred, average='weighted')*100)\n",
    "print('Recall score:',    recall_score(y_test, y_pred, average='weighted')*100)\n",
    "print('F1 score:',        f1_score(y_test, y_pred, average='weighted')*100)\n",
    "print('Hamming Loss:',    hamming_loss(y_test,y_pred)*100)\n",
    "print('Mean cross Validation Score:', cross_val_score(gaus_nb, X_test, y_test, scoring='accuracy', cv=4).mean()*100)"
   ]
  },
  {
   "cell_type": "markdown",
   "metadata": {},
   "source": [
    "**Multinomial Naive Bayes** calculates the probability of each tag for a given sample and then gives the tag with the highest probability as output. It is suitable for classification with discrete features and the multinomial distribution normally requires integer feature counts. It is useful when the datasets contain huge amounts of data that needs to be segregated with the word count."
   ]
  },
  {
   "cell_type": "code",
   "execution_count": 21,
   "metadata": {},
   "outputs": [
    {
     "name": "stdout",
     "output_type": "stream",
     "text": [
      "Metrics of MultinomialNB classifier:\n",
      "Accuracy score: 96.22641509433963\n",
      "Precision score: 96.72955974842768\n",
      "Recall score: 96.22641509433963\n",
      "F1 score: 96.27333330498396\n",
      "Hamming Loss: 3.7735849056603774\n",
      "Mean cross Validation Score: 88.73626373626374\n"
     ]
    }
   ],
   "source": [
    "mul_nb = MultinomialNB()\n",
    "y_pred = mul_nb.fit(X_train, y_train).predict(X_test)\n",
    "\n",
    "print('Metrics of MultinomialNB classifier:')\n",
    "print('Accuracy score:' , accuracy_score(y_test, y_pred)*100)\n",
    "print('Precision score:', precision_score(y_test, y_pred, average='weighted')*100)\n",
    "print('Recall score:',    recall_score(y_test, y_pred, average='weighted')*100)\n",
    "print('F1 score:',        f1_score(y_test, y_pred, average='weighted')*100)\n",
    "print('Hamming Loss:',    hamming_loss(y_test,y_pred)*100)\n",
    "print('Mean cross Validation Score:',cross_val_score(mul_nb, X_test, y_test, scoring='accuracy', cv=4).mean()*100)"
   ]
  },
  {
   "cell_type": "markdown",
   "metadata": {},
   "source": [
    "**Bernoulli Naive Bayes** is used for discrete data and works on Bernoulli distribution, where features are only in binary form like true or false, yes or no, success or failure, 0 or 1 and so on. As the current problem is not a trivial one, this classifier doesnt fit into the context."
   ]
  },
  {
   "cell_type": "code",
   "execution_count": 22,
   "metadata": {},
   "outputs": [
    {
     "name": "stdout",
     "output_type": "stream",
     "text": [
      "Metrics of BernoulliNB classifier:\n",
      "Accuracy score: 88.67924528301887\n",
      "Precision score: 92.0754716981132\n",
      "Recall score: 88.67924528301887\n",
      "F1 score: 88.78137934741707\n",
      "Hamming Loss: 11.320754716981133\n",
      "Mean cross Validation Score: 56.59340659340659\n"
     ]
    }
   ],
   "source": [
    "ber_nb = BernoulliNB()\n",
    "y_pred = ber_nb.fit(X_train, y_train).predict(X_test)\n",
    "\n",
    "print('Metrics of BernoulliNB classifier:')\n",
    "print('Accuracy score:' , accuracy_score(y_test, y_pred)*100)\n",
    "print('Precision score:', precision_score(y_test, y_pred, average='weighted')*100)\n",
    "print('Recall score:',    recall_score(y_test, y_pred, average='weighted')*100)\n",
    "print('F1 score:',        f1_score(y_test, y_pred, average='weighted')*100)\n",
    "print('Hamming Loss:',    hamming_loss(y_test,y_pred)*100)\n",
    "print('Mean cross Validation Score:',cross_val_score(ber_nb, X_test, y_test, scoring='accuracy', cv=4).mean()*100)"
   ]
  },
  {
   "cell_type": "markdown",
   "metadata": {},
   "source": [
    "**Confusion Matrix** is  a table that is often used to describe the performance of a classification model (or \"classifier\") on a set of test data for which the true values are known. "
   ]
  },
  {
   "cell_type": "code",
   "execution_count": 23,
   "metadata": {},
   "outputs": [
    {
     "data": {
      "image/png": "[encoded data removed]",
      "text/plain": [
       "<Figure size 432x288 with 2 Axes>"
      ]
     },
     "metadata": {
      "needs_background": "light"
     },
     "output_type": "display_data"
    },
    {
     "data": {
      "image/png": "[encoded data removed]",
      "text/plain": [
       "<Figure size 432x288 with 2 Axes>"
      ]
     },
     "metadata": {
      "needs_background": "light"
     },
     "output_type": "display_data"
    },
    {
     "data": {
      "image/png": "[encoded data removed]",
      "text/plain": [
       "<Figure size 432x288 with 2 Axes>"
      ]
     },
     "metadata": {
      "needs_background": "light"
     },
     "output_type": "display_data"
    }
   ],
   "source": [
    "classifier = [gaus_nb, mul_nb, ber_nb]\n",
    "\n",
    "for i in classifier:\n",
    "    plot_confusion_matrix(i, X_test, y_test)\n",
    "    plt.xticks(rotation=90)\n",
    "    plt.title(i)\n",
    "    plt.ylabel('Actual Values')\n",
    "    plt.xlabel('Predicted Values')\n",
    "    plt.show()"
   ]
  },
  {
   "cell_type": "markdown",
   "metadata": {},
   "source": [
    "**ROC and AUC score**: Area Under Curve (AUC) - Receiver Operating Characterstics (ROC) curve is a performance measurement for the classification problems at various threshold settings. ROC is a probability curve and AUC represents the degree or measure of separability. It tells how much the model is capable of distinguishing between classes. Higher the AUC, the better the model is at predicting '0s' as '0s' and '1s' as '1s'. "
   ]
  },
  {
   "cell_type": "code",
   "execution_count": 24,
   "metadata": {},
   "outputs": [
    {
     "name": "stdout",
     "output_type": "stream",
     "text": [
      "roc_auc_score for GaussianNB:  0.916831655703135\n",
      "roc_auc_score for MultinomialNB:  0.8835882126091723\n",
      "roc_auc_score for BernoulliNB:  0.8835882126091723\n"
     ]
    }
   ],
   "source": [
    "X_g, y_g = make_multilabel_classification(random_state=700)\n",
    "clf = GaussianNB().fit(X_train, y_train)\n",
    "clf = MultiOutputClassifier(clf).fit(X_g, y_g)\n",
    "# get a list of n_output containing probability arrays of shape\n",
    "# (n_samples, n_classes)\n",
    "y_pred_g = clf.predict_proba(X_g)\n",
    "# extract the positive columns for each output\n",
    "y_pred_g = np.transpose([pred[:, 1] for pred in y_pred_g])\n",
    "\n",
    "X_m, y_m = make_multilabel_classification(random_state=700)\n",
    "clf = MultinomialNB().fit(X_train, y_train)\n",
    "clf = MultiOutputClassifier(clf).fit(X_m, y_m)\n",
    "y_pred_m = clf.predict_proba(X_m)\n",
    "y_pred_m = np.transpose([pred[:, 1] for pred in y_pred_m])\n",
    "\n",
    "X_b, y_b = make_multilabel_classification(random_state=700)\n",
    "clf = MultinomialNB().fit(X_train, y_train)\n",
    "clf = MultiOutputClassifier(clf).fit(X_b, y_b)\n",
    "y_pred_b = clf.predict_proba(X_b)\n",
    "y_pred_b = np.transpose([pred[:, 1] for pred in y_pred_b])\n",
    "\n",
    "g_ras = roc_auc_score(y_g, y_pred_g, multi_class='ovo')\n",
    "m_ras = roc_auc_score(y_m, y_pred_m, multi_class='ovo')\n",
    "b_ras = roc_auc_score(y_b, y_pred_b, multi_class='ovo')\n",
    "\n",
    "print('roc_auc_score for GaussianNB: ', g_ras)\n",
    "print('roc_auc_score for MultinomialNB: ', m_ras)\n",
    "print('roc_auc_score for BernoulliNB: ', b_ras)"
   ]
  },
  {
   "cell_type": "code",
   "execution_count": 25,
   "metadata": {},
   "outputs": [
    {
     "name": "stderr",
     "output_type": "stream",
     "text": [
      "/home/vamsikrishna/anaconda3/lib/python3.8/site-packages/sklearn/metrics/_ranking.py:811: UndefinedMetricWarning: No positive samples in y_true, true positive value should be meaningless\n",
      "  warnings.warn(\"No positive samples in y_true, \"\n"
     ]
    }
   ],
   "source": [
    "lb = LabelBinarizer()\n",
    "y_test = lb.fit_transform(y_test)\n",
    "y_test = y_test.ravel()\n",
    "#print(y_test.shape)\n",
    "\n",
    "y_score1 = gaus_nb.predict_proba(X_test).ravel()\n",
    "y_score2 = mul_nb.predict_proba(X_test).ravel()\n",
    "y_score3 = ber_nb.predict_proba(X_test).ravel()\n",
    "\n",
    "false_positive_rate1, true_positive_rate1, threshold1 = roc_curve(y_test, y_score1,pos_label=0)\n",
    "false_positive_rate2, true_positive_rate2, threshold2 = roc_curve(y_test, y_score2,pos_label=1)\n",
    "false_positive_rate3, true_positive_rate3, threshold3 = roc_curve(y_test, y_score3,pos_label=2)"
   ]
  },
  {
   "cell_type": "code",
   "execution_count": 26,
   "metadata": {},
   "outputs": [
    {
     "data": {
      "image/png": "[encoded data removed]",
      "text/plain": [
       "<Figure size 360x360 with 1 Axes>"
      ]
     },
     "metadata": {
      "needs_background": "light"
     },
     "output_type": "display_data"
    },
    {
     "data": {
      "image/png": "[encoded data removed]",
      "text/plain": [
       "<Figure size 360x360 with 1 Axes>"
      ]
     },
     "metadata": {
      "needs_background": "light"
     },
     "output_type": "display_data"
    },
    {
     "data": {
      "image/png": "[encoded data removed]",
      "text/plain": [
       "<Figure size 360x360 with 1 Axes>"
      ]
     },
     "metadata": {
      "needs_background": "light"
     },
     "output_type": "display_data"
    }
   ],
   "source": [
    "plt.subplots(1, figsize=(5,5))\n",
    "plt.title('Receiver Operating Characteristic - GaussianNB')\n",
    "plt.plot(false_positive_rate1, true_positive_rate1, color='darkorange', label='ROC curve (area = %0.2f)' % g_ras)\n",
    "plt.plot([0, 1], ls=\"--\")\n",
    "plt.plot([0, 0], [1, 0] , c=\"0.5\"), plt.plot([1, 1] , c=\"0.5\")\n",
    "plt.ylabel('True Positive Rate')\n",
    "plt.xlabel('False Positive Rate')\n",
    "plt.legend(loc=\"lower right\")\n",
    "plt.show()\n",
    "\n",
    "plt.subplots(1, figsize=(5,5))\n",
    "plt.title('Receiver Operating Characteristic - MultinomialNB')\n",
    "plt.plot(false_positive_rate2, true_positive_rate2, color='darkorange', label='ROC curve (area = %0.2f)' % m_ras)\n",
    "plt.plot([0, 1], ls=\"-\")\n",
    "plt.plot([0, 0], [1, 0] , c=\"0.5\"), plt.plot([1, 1] , c=\"0.5\")\n",
    "plt.ylabel('True Positive Rate')\n",
    "plt.xlabel('False Positive Rate')\n",
    "plt.legend(loc=\"lower right\")\n",
    "plt.show()\n",
    "\n",
    "plt.subplots(1, figsize=(5,5))\n",
    "plt.title('Receiver Operating Characteristic - BernoulliNB')\n",
    "plt.plot(false_positive_rate3, true_positive_rate3, color='darkorange', label='ROC curve (area = %0.2f)' % b_ras)\n",
    "plt.plot([0, 1], ls=\":\")\n",
    "plt.plot([0, 0], [1, 0] , c=\"0.5\"), plt.plot([1, 1] , c=\"0.5\")\n",
    "plt.ylabel('True Positive Rate')\n",
    "plt.xlabel('False Positive Rate')\n",
    "plt.legend(loc=\"lower right\")\n",
    "plt.show()"
   ]
  }
 ],
 "metadata": {
  "kernelspec": {
   "display_name": "Python 3",
   "language": "python",
   "name": "python3"
  },
  "language_info": {
   "codemirror_mode": {
    "name": "ipython",
    "version": 3
   },
   "file_extension": ".py",
   "mimetype": "text/x-python",
   "name": "python",
   "nbconvert_exporter": "python",
   "pygments_lexer": "ipython3",
   "version": "3.8.5"
  }
 },
 "nbformat": 4,
 "nbformat_minor": 4
}
